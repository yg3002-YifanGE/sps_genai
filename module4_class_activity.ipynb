{
 "cells": [
  {
   "cell_type": "code",
   "execution_count": null,
   "id": "3db7ec1a",
   "metadata": {},
   "outputs": [
    {
     "ename": "",
     "evalue": "",
     "output_type": "error",
     "traceback": [
      "\u001b[1;31m运行具有“base (Python 3.12.8)”的单元格需要ipykernel包。\n",
      "\u001b[1;31m使用所需的包 <a href='command:jupyter.createPythonEnvAndSelectController'>创建 Python 环境</a>。"
     ]
    }
   ],
   "source": [
    "# 0) 路径（若需要）\n",
    "# import sys, os; sys.path.append(os.path.abspath(\"..\"))\n",
    "\n",
    "from helper_lib.data_loader import get_data_loader\n",
    "from helper_lib.model import get_model\n",
    "from helper_lib.trainer import train_model\n",
    "from helper_lib.evaluator import evaluate_model\n",
    "from helper_lib.utils import save_model\n",
    "\n",
    "import torch, torch.nn as nn, torch.optim as optim\n",
    "\n",
    "train_loader = get_data_loader('data', batch_size=64, train=True)\n",
    "test_loader  = get_data_loader('data', batch_size=64, train=False)\n",
    "\n",
    "model = get_model(\"CNN\")\n",
    "criterion = nn.CrossEntropyLoss()\n",
    "optimizer = optim.Adam(model.parameters(), lr=1e-3)\n",
    "\n",
    "device = \"cuda\" if torch.cuda.is_available() else \"cpu\"\n",
    "model = train_model(model, train_loader, criterion, optimizer, device=device, epochs=3)\n",
    "\n",
    "evaluate_model(model, test_loader, criterion, device=device)\n",
    "save_model(model, \"checkpoints/cnn_mnist.pth\")\n"
   ]
  }
 ],
 "metadata": {
  "kernelspec": {
   "display_name": "base",
   "language": "python",
   "name": "python3"
  },
  "language_info": {
   "codemirror_mode": {
    "name": "ipython",
    "version": 3
   },
   "file_extension": ".py",
   "mimetype": "text/x-python",
   "name": "python",
   "nbconvert_exporter": "python",
   "pygments_lexer": "ipython3",
   "version": "3.12.8"
  }
 },
 "nbformat": 4,
 "nbformat_minor": 5
}
